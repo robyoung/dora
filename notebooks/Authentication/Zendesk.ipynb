{
 "metadata": {
  "name": "Authentication/Zendesk"
 },
 "nbformat": 3,
 "nbformat_minor": 0,
 "worksheets": [
  {
   "cells": [
    {
     "cell_type": "markdown",
     "metadata": {},
     "source": [
      "This notebook authenticates with the Zendesk API. Simply put your username and password in the places below and run the cell."
     ]
    },
    {
     "cell_type": "code",
     "collapsed": false,
     "input": [
      "from dora.auth import zendesk"
     ],
     "language": "python",
     "metadata": {},
     "outputs": [],
     "prompt_number": 1
    },
    {
     "cell_type": "code",
     "collapsed": false,
     "input": [
      "zendesk.authenticate(\"username\", \"password\")"
     ],
     "language": "python",
     "metadata": {},
     "outputs": []
    }
   ],
   "metadata": {}
  }
 ]
}