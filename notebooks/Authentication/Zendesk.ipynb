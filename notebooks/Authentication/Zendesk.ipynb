{
 "metadata": {
  "name": "Authentication/Zendesk"
 },
 "nbformat": 3,
 "nbformat_minor": 0,
 "worksheets": [
  {
   "cells": [
    {
     "cell_type": "markdown",
     "metadata": {},
     "source": [
      "This notebook authenticates with the Zendesk API. Simply put your username and password in the places below and run the cell."
     ]
    },
    {
     "cell_type": "code",
     "collapsed": false,
     "input": [
      "from dora.source import zendesk"
     ],
     "language": "python",
     "metadata": {},
     "outputs": []
    },
    {
     "cell_type": "code",
     "collapsed": false,
     "input": [
      "zendesk.authenticate(\"username\", \"password\")"
     ],
     "language": "python",
     "metadata": {},
     "outputs": []
    },
    {
     "cell_type": "markdown",
     "metadata": {},
     "source": [
      "Make a search request for tickets with the tag `report_a_problem`"
     ]
    },
    {
     "cell_type": "code",
     "collapsed": false,
     "input": [
      "zendesk.client(api_version=2).get('search', query='tags:report_a_problem')"
     ],
     "language": "python",
     "metadata": {},
     "outputs": []
    }
   ],
   "metadata": {}
  }
 ]
}