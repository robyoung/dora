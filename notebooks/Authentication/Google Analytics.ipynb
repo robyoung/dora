{
 "metadata": {
  "name": "Authentication/Google Analytics"
 },
 "nbformat": 3,
 "nbformat_minor": 0,
 "worksheets": [
  {
   "cells": [
    {
     "cell_type": "markdown",
     "metadata": {},
     "source": [
      "# Authenticating with Google Analytics\n",
      "\n",
      "This notebook guides you through authenticating with Google APIs so that you can query the Google Analytics API with Pandas. Note that you need to have Google Analytics access to do this.\n",
      "\n",
      "## Before you start\n",
      "\n",
      "First up you'll need to go to the [Google API Console](https://code.google.com/apis/console) and get yourself a secrets file.\n",
      "\n",
      "1. Go to the [Google API Console](https://code.google.com/apis/console)\n",
      "2. Click the 'Services' tab and switch on 'Analytics API'\n",
      "3. Click the 'API Access' tab and create a 'Create OAuth2.0 client ID'\n",
      "3. Select 'Installed application'\n",
      "4. Download the json and save in the `config/auth` directory of dora\n",
      "5. Run each of the following cells (with the play button above) and follow the instructions."
     ]
    },
    {
     "cell_type": "code",
     "collapsed": false,
     "input": [
      "from dora.source import ga\n",
      "from datetime import date"
     ],
     "language": "python",
     "metadata": {},
     "outputs": [],
     "prompt_number": 1
    },
    {
     "cell_type": "code",
     "collapsed": false,
     "input": [
      "reload(ga)\n",
      "ga.authenticate()"
     ],
     "language": "python",
     "metadata": {},
     "outputs": [
      {
       "output_type": "stream",
       "stream": "stdout",
       "text": [
        "Go to the following link in your browser\n",
        "https://accounts.google.com/o/oauth2/auth?scope=https%3A%2F%2Fwww.googleapis.com%2Fauth%2Fanalytics.readonly&redirect_uri=http%3A%2F%2Flocalhost%3A8080&response_type=code&client_id=673591833363-9voa7c9dr8h38nmbm8quog11ue4hi2ku.apps.googleusercontent.com&access_type=offline\n"
       ]
      }
     ],
     "prompt_number": 2
    },
    {
     "cell_type": "markdown",
     "metadata": {},
     "source": [
      "## Query some data\n",
      "\n",
      "You should now have access to the Google Analytics API. Try running the following cell to test it out."
     ]
    },
    {
     "cell_type": "code",
     "collapsed": false,
     "input": [
      "# Set the metrics and dimenstion we're interrested in\n",
      "# Note that we skip off the 'ga:' prefix\n",
      "metrics = ['visits']\n",
      "dimensions = ['date']\n",
      "\n",
      "start_date = date(2012, 10, 1)\n",
      "\n",
      "# Call the read_ga method passing in the secrets and token file names.\n",
      "ga.read_ga(metrics, dimensions=dimensions, start_date=start_date, end_date=start_date)"
     ],
     "language": "python",
     "metadata": {},
     "outputs": [
      {
       "html": [
        "<div style=\"max-height:1000px;max-width:1500px;overflow:auto;\">\n",
        "<table border=\"1\" class=\"dataframe\">\n",
        "  <thead>\n",
        "    <tr style=\"text-align: right;\">\n",
        "      <th></th>\n",
        "      <th>visits</th>\n",
        "    </tr>\n",
        "    <tr>\n",
        "      <th>date</th>\n",
        "      <th></th>\n",
        "    </tr>\n",
        "  </thead>\n",
        "  <tbody>\n",
        "    <tr>\n",
        "      <th>2012-10-01</th>\n",
        "      <td> 25076</td>\n",
        "    </tr>\n",
        "  </tbody>\n",
        "</table>\n",
        "</div>"
       ],
       "output_type": "pyout",
       "prompt_number": 3,
       "text": [
        "            visits\n",
        "date              \n",
        "2012-10-01   25076"
       ]
      }
     ],
     "prompt_number": 3
    }
   ],
   "metadata": {}
  }
 ]
}
